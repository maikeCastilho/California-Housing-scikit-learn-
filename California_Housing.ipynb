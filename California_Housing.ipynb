{
  "cells": [
    {
      "cell_type": "code",
      "execution_count": 14,
      "metadata": {
        "id": "uEkDOHtXAPGB"
      },
      "outputs": [],
      "source": [
        "# ======================================================\n",
        "# 1) Introdução\n",
        "# ======================================================\n",
        "# Este notebook foi preparado para ser executado no Google Colab.\n",
        "# Objetivo: treinar um modelo de Machine Learning (ex.: Rede Neural)\n",
        "# para prever o valor mediano de casas na Califórnia.\n",
        "#\n",
        "# Dataset: California Housing (scikit-learn)\n",
        "#\n",
        "# Fluxo:\n",
        "#   1. Carregar dataset\n",
        "#   2. Dividir em treino/teste\n",
        "#   3. Pré-processamento com ColumnTransformer\n",
        "#   4. Baseline com DummyRegressor\n",
        "#   5. Treinar seu modelo de ML (ex.: Rede Neural MLP)\n",
        "#   6. Avaliar métricas (MAE, RMSE, R²)\n",
        "#   7. Adicione PCA ao código e treine novamente o modelo de Rede Neural."
      ]
    },
    {
      "cell_type": "code",
      "execution_count": 15,
      "metadata": {
        "id": "VfJua3QmAa3W"
      },
      "outputs": [],
      "source": [
        "# ======================================================\n",
        "# 2) Imports e Configurações\n",
        "# ======================================================\n",
        "\n",
        "import os\n",
        "import random\n",
        "import joblib\n",
        "import numpy as np\n",
        "import pandas as pd\n",
        "\n",
        "from sklearn.datasets import fetch_california_housing\n",
        "from sklearn.model_selection import train_test_split, cross_val_score\n",
        "from sklearn.compose import ColumnTransformer\n",
        "from sklearn.pipeline import Pipeline\n",
        "from sklearn.impute import SimpleImputer\n",
        "from sklearn.preprocessing import StandardScaler\n",
        "from sklearn.dummy import DummyRegressor\n",
        "from sklearn.metrics import mean_absolute_error, mean_squared_error, r2_score\n",
        "from sklearn.decomposition import PCA\n",
        "from sklearn.neural_network import MLPRegressor\n",
        "\n",
        "# Semente para reprodutibilidade\n",
        "RANDOM_SEED = 42\n",
        "np.random.seed(RANDOM_SEED)\n",
        "random.seed(RANDOM_SEED)\n",
        "\n"
      ]
    },
    {
      "cell_type": "code",
      "execution_count": 16,
      "metadata": {
        "id": "UIrDHQWEAddn"
      },
      "outputs": [],
      "source": [
        "# ======================================================\n",
        "# 3) Funções Auxiliares\n",
        "# ======================================================\n",
        "\n",
        "def load_california_housing():\n",
        "    \"\"\"\n",
        "    Carrega o dataset California Housing como DataFrame.\n",
        "    Retorna X, y, lista de colunas numéricas e categóricas.\n",
        "    \"\"\"\n",
        "    ds = fetch_california_housing(as_frame=True)\n",
        "    frame = ds.frame.copy()\n",
        "    y = frame[\"MedHouseVal\"]\n",
        "    X = frame.drop(columns=[\"MedHouseVal\"])\n",
        "    numeric_features = X.columns.tolist()\n",
        "    categorical_features = []  # não há colunas categóricas\n",
        "    return X, y, numeric_features, categorical_features\n",
        "\n",
        "\n",
        "def build_preprocessor(numeric_features, categorical_features):\n",
        "    \"\"\"\n",
        "    Cria o pré-processador:\n",
        "      - Numéricas: imputação de mediana + padronização\n",
        "      - Categóricas: (não usado aqui, mas estrutura mantida para exemplos futuros)\n",
        "    \"\"\"\n",
        "    numeric_transformer = Pipeline(steps=[\n",
        "        (\"imputer\", SimpleImputer(strategy=\"median\")),\n",
        "        (\"scaler\", StandardScaler())\n",
        "    ])\n",
        "\n",
        "    preprocessor = ColumnTransformer(\n",
        "        transformers=[\n",
        "            (\"num\", numeric_transformer, numeric_features),\n",
        "        ]\n",
        "    )\n",
        "    return preprocessor\n",
        "\n",
        "\n",
        "def evaluate(model, X_test, y_test, label=\"Modelo\"):\n",
        "    \"\"\"\n",
        "    Avalia o modelo no conjunto de teste e retorna métricas (MAE, RMSE, R²).\n",
        "    Compatível com versões antigas do scikit-learn.\n",
        "    \"\"\"\n",
        "    preds = model.predict(X_test)\n",
        "    mae = mean_absolute_error(y_test, preds)\n",
        "    rmse = np.sqrt(mean_squared_error(y_test, preds))  # corrigido\n",
        "    r2 = r2_score(y_test, preds)\n",
        "    print(f\"[{label}]  MAE={mae:.4f} | RMSE={rmse:.4f} | R²={r2:.4f}\")\n",
        "    return {\"MAE\": mae, \"RMSE\": rmse, \"R2\": r2}\n",
        "\n"
      ]
    },
    {
      "cell_type": "code",
      "execution_count": 17,
      "metadata": {
        "colab": {
          "base_uri": "https://localhost:8080/"
        },
        "id": "-ZxO1MJnAhPg",
        "outputId": "6914249d-588f-4b63-d137-2f8bcb1341a6"
      },
      "outputs": [
        {
          "name": "stdout",
          "output_type": "stream",
          "text": [
            "Dataset carregado. X shape=(20640, 8) | y shape=(20640,)\n"
          ]
        }
      ],
      "source": [
        "# ======================================================\n",
        "# 4) Carregar Dados e Split\n",
        "# ======================================================\n",
        "\n",
        "X, y, num_feats, cat_feats = load_california_housing()\n",
        "print(f\"Dataset carregado. X shape={X.shape} | y shape={y.shape}\")\n",
        "\n",
        "X_train, X_test, y_train, y_test = train_test_split(\n",
        "    X, y, test_size=0.20, random_state=RANDOM_SEED\n",
        ")\n"
      ]
    },
    {
      "cell_type": "code",
      "execution_count": 18,
      "metadata": {
        "colab": {
          "base_uri": "https://localhost:8080/"
        },
        "id": "uVnJrZd0Ajwx",
        "outputId": "90e0b457-f9e1-4951-da10-73bd5818acfe"
      },
      "outputs": [],
      "source": [
        "# ======================================================\n",
        "# 5) Baseline (DummyRegressor)\n",
        "# ======================================================\n",
        "\n",
        "preprocessor = build_preprocessor(num_feats, cat_feats)\n",
        "\n",
        "model_pca = Pipeline(steps=[\n",
        "    (\"pre\", preprocessor),\n",
        "    (\"pca\", PCA(n_components=0.95, random_state=RANDOM_SEED)),  # mantém 95% da variância\n",
        "    (\"reg\", MLPRegressor(\n",
        "        hidden_layer_sizes=(12, 6),\n",
        "        activation=\"relu\",\n",
        "        learning_rate_init=0.001,\n",
        "        max_iter=800,\n",
        "        random_state=RANDOM_SEED\n",
        "    ))\n",
        "])\n",
        "\n"
      ]
    },
    {
      "cell_type": "code",
      "execution_count": 19,
      "metadata": {
        "colab": {
          "base_uri": "https://localhost:8080/"
        },
        "id": "g0CZ_T6lAodW",
        "outputId": "032b7d21-fc96-4f6a-ab42-8d1feaab9b38"
      },
      "outputs": [
        {
          "name": "stdout",
          "output_type": "stream",
          "text": [
            "Validação Cruzada R² (média ± desvio): 0.6853 ± 0.0035\n",
            "[Rede Neural (MLP)]  MAE=0.4609 | RMSE=0.6455 | R²=0.6821\n"
          ]
        }
      ],
      "source": [
        "# ======================================================\n",
        "# 6) Seu Modelo de Machine Learning\n",
        "# ======================================================\n",
        "# Aqui você deve substituir pelo modelo que deseja treinar.\n",
        "# Sugestão: Rede Neural com MLPRegressor, Random Forest ou Regressão Linear Ridge.\n",
        "\n",
        "from sklearn.neural_network import MLPRegressor\n",
        "\n",
        "model = Pipeline(steps=[\n",
        "    (\"pre\", preprocessor),\n",
        "    (\"pca\", PCA(n_components=0.95, random_state=RANDOM_SEED)),  # mantém 95% da variância\n",
        "    (\"reg\", MLPRegressor(\n",
        "        hidden_layer_sizes=(12, 6),\n",
        "        activation=\"relu\",\n",
        "        learning_rate_init=0.001,\n",
        "        max_iter=800,\n",
        "        random_state=RANDOM_SEED\n",
        "    ))\n",
        "])\n",
        "\n",
        "# Validação cruzada (5-fold)\n",
        "cv_scores = cross_val_score(model, X_train, y_train, cv=5, scoring=\"r2\")\n",
        "print(f\"Validação Cruzada R² (média ± desvio): {cv_scores.mean():.4f} ± {cv_scores.std():.4f}\")\n",
        "\n",
        "# Treino final\n",
        "model.fit(X_train, y_train)\n",
        "metrics = evaluate(model, X_test, y_test, label=\"Rede Neural (MLP)\")\n"
      ]
    },
    {
      "cell_type": "code",
      "execution_count": 20,
      "metadata": {
        "id": "xO12pEdvAvUN"
      },
      "outputs": [
        {
          "name": "stdout",
          "output_type": "stream",
          "text": [
            "✅ Artefatos salvos em ./artifacts\n"
          ]
        }
      ],
      "source": [
        "# ======================================================\n",
        "# 7) Salvando Artefatos no Colab\n",
        "# ======================================================\n",
        "\n",
        "# Criar diretório para salvar resultados\n",
        "os.makedirs(\"artifacts\", exist_ok=True)\n",
        "\n",
        "# Salvar modelo treinado\n",
        "joblib.dump(model, \"artifacts/model_california.joblib\")\n",
        "\n",
        "# Salvar métricas em arquivo texto\n",
        "with open(\"artifacts/metrics.txt\", \"w\") as f:\n",
        "    for k, v in metrics.items():\n",
        "        f.write(f\"{k}: {v}\\n\")\n",
        "\n",
        "print(\"✅ Artefatos salvos em ./artifacts\")\n"
      ]
    }
  ],
  "metadata": {
    "colab": {
      "provenance": []
    },
    "kernelspec": {
      "display_name": "Python 3",
      "name": "python3"
    },
    "language_info": {
      "codemirror_mode": {
        "name": "ipython",
        "version": 3
      },
      "file_extension": ".py",
      "mimetype": "text/x-python",
      "name": "python",
      "nbconvert_exporter": "python",
      "pygments_lexer": "ipython3",
      "version": "3.11.7"
    }
  },
  "nbformat": 4,
  "nbformat_minor": 0
}
